{
 "cells": [
  {
   "cell_type": "code",
   "execution_count": 1,
   "id": "365d01b1-6fa6-4391-9665-a8aaff4ce413",
   "metadata": {},
   "outputs": [],
   "source": [
    "import ast\n",
    "import requests\n",
    "\n",
    "def food_facts(food):\n",
    "\n",
    "    url = \"https://calorieninjas.p.rapidapi.com/v1/nutrition\"\n",
    "\n",
    "    querystring = {\"query\":f\"{food}\"}\n",
    "\n",
    "    headers = {\n",
    "        'x-rapidapi-host': \"calorieninjas.p.rapidapi.com\",\n",
    "        'x-rapidapi-key': \"7603016162msh8263f88a5aa10dfp18e91ajsna3493aef8fcf\"\n",
    "        }\n",
    "\n",
    "    response = requests.request(\"GET\", url, headers=headers, params=querystring)\n",
    "\n",
    "    # print(response.text)\n",
    "\n",
    "    dict_response = ast.literal_eval(response.text)\n",
    "\n",
    "    # print(dict_response)\n",
    "\n",
    "    food_facts = {\n",
    "        \"saturated fat\": dict_response[\"items\"][0][\"fat_saturated_g\"],\n",
    "        \"total fat\": dict_response[\"items\"][0][\"fat_total_g\"],\n",
    "        \"carbs\": dict_response[\"items\"][0][\"carbohydrates_total_g\"],\n",
    "        \"protein\": dict_response[\"items\"][0][\"protein_g\"],\n",
    "        \"sugar\": dict_response[\"items\"][0][\"sugar_g\"],\n",
    "        \"sodium\": dict_response[\"items\"][0][\"sodium_mg\"],\n",
    "        \"cholesterol\": dict_response[\"items\"][0][\"cholesterol_mg\"]\n",
    "    }\n",
    "\n",
    "    for key, value in food_facts.items():\n",
    "        print(f\"{key.title()}: {value}\")"
   ]
  },
  {
   "cell_type": "code",
   "execution_count": null,
   "id": "5509c2d8-c6a4-4308-bf81-be1d0e7f4d96",
   "metadata": {},
   "outputs": [],
   "source": []
  }
 ],
 "metadata": {
  "kernelspec": {
   "display_name": "Python 3 (ipykernel)",
   "language": "python",
   "name": "python3"
  },
  "language_info": {
   "codemirror_mode": {
    "name": "ipython",
    "version": 3
   },
   "file_extension": ".py",
   "mimetype": "text/x-python",
   "name": "python",
   "nbconvert_exporter": "python",
   "pygments_lexer": "ipython3",
   "version": "3.10.13"
  }
 },
 "nbformat": 4,
 "nbformat_minor": 5
}
